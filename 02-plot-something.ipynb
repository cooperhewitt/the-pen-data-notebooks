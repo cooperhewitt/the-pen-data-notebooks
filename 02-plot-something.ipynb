{
 "cells": [
  {
   "cell_type": "markdown",
   "metadata": {},
   "source": [
    "### plot-something\n",
    "\n",
    "This is just some basics for reading in data from the csv and plotting some of the data in a couple of ways."
   ]
  },
  {
   "cell_type": "code",
   "execution_count": 1,
   "metadata": {
    "collapsed": false
   },
   "outputs": [
    {
     "name": "stdout",
     "output_type": "stream",
     "text": [
      "3599735\n"
     ]
    }
   ],
   "source": [
    "## standard csv import of data\n",
    "import csv\n",
    "\n",
    "f = csv.reader(open(\"../the-pen-data/data/pen-collected-items.csv\"))\n",
    "\n",
    "## copy the 'created' column to a new array\n",
    "ds = []\n",
    "\n",
    "for row in f:\n",
    "    if (row[0] == 'id'):\n",
    "        continue\n",
    "    ds.append(row[4])\n",
    "\n",
    "## show the number of rows    \n",
    "print(len(ds))\n",
    "    "
   ]
  },
  {
   "cell_type": "code",
   "execution_count": 2,
   "metadata": {
    "collapsed": false
   },
   "outputs": [
    {
     "name": "stdout",
     "output_type": "stream",
     "text": [
      "1414081555\n",
      "1414432504\n",
      "1414526581\n",
      "1414526584\n",
      "1414529537\n",
      "1414530977\n",
      "1414530973\n",
      "1414536158\n",
      "1414536160\n",
      "1414617054\n"
     ]
    }
   ],
   "source": [
    "## print the first 10 rows in unix timestamp format\n",
    "for i in range(10):\n",
    "    print(ds[i])"
   ]
  },
  {
   "cell_type": "code",
   "execution_count": 3,
   "metadata": {
    "collapsed": false
   },
   "outputs": [
    {
     "data": {
      "image/png": "[encoded data removed]",
      "text/plain": [
       "<matplotlib.figure.Figure at 0x7f636be37710>"
      ]
     },
     "metadata": {},
     "output_type": "display_data"
    }
   ],
   "source": [
    "## plot something inline\n",
    "%matplotlib inline\n",
    "\n",
    "## plot all the timestamps\n",
    "import matplotlib.pyplot as plt\n",
    "plt.plot(ds)\n",
    "plt.show()\n",
    "\n"
   ]
  },
  {
   "cell_type": "code",
   "execution_count": 4,
   "metadata": {
    "collapsed": false
   },
   "outputs": [
    {
     "name": "stdout",
     "output_type": "stream",
     "text": [
      "2014-10-23 16:25:55\n",
      "2014-10-27 17:55:04\n",
      "2014-10-28 20:03:01\n",
      "2014-10-28 20:03:04\n",
      "2014-10-28 20:52:17\n",
      "2014-10-28 21:16:17\n",
      "2014-10-28 21:16:13\n",
      "2014-10-28 22:42:38\n",
      "2014-10-28 22:42:40\n",
      "2014-10-29 21:10:54\n"
     ]
    }
   ],
   "source": [
    "# format timestamps \n",
    "import datetime\n",
    "\n",
    "# print the first 10 rows\n",
    "for i in range(10):\n",
    "    print(datetime.datetime.utcfromtimestamp(float(ds[i])))"
   ]
  },
  {
   "cell_type": "code",
   "execution_count": 5,
   "metadata": {
    "collapsed": false
   },
   "outputs": [
    {
     "data": {
      "text/html": [
       "<div>\n",
       "<table border=\"1\" class=\"dataframe\">\n",
       "  <thead>\n",
       "    <tr style=\"text-align: right;\">\n",
       "      <th></th>\n",
       "      <th>id</th>\n",
       "      <th>tool_id</th>\n",
       "      <th>bundle_id</th>\n",
       "      <th>refers_to_object_id</th>\n",
       "      <th>created</th>\n",
       "    </tr>\n",
       "  </thead>\n",
       "  <tbody>\n",
       "    <tr>\n",
       "      <th>0</th>\n",
       "      <td>0</td>\n",
       "      <td>0</td>\n",
       "      <td>54Sa</td>\n",
       "      <td>18356743</td>\n",
       "      <td>1414081555</td>\n",
       "    </tr>\n",
       "    <tr>\n",
       "      <th>1</th>\n",
       "      <td>1</td>\n",
       "      <td>0</td>\n",
       "      <td>54ZB</td>\n",
       "      <td>18316213</td>\n",
       "      <td>1414432504</td>\n",
       "    </tr>\n",
       "    <tr>\n",
       "      <th>2</th>\n",
       "      <td>2</td>\n",
       "      <td>0</td>\n",
       "      <td>55ap</td>\n",
       "      <td>18637615</td>\n",
       "      <td>1414526581</td>\n",
       "    </tr>\n",
       "    <tr>\n",
       "      <th>3</th>\n",
       "      <td>3</td>\n",
       "      <td>0</td>\n",
       "      <td>55ap</td>\n",
       "      <td>18643273</td>\n",
       "      <td>1414526584</td>\n",
       "    </tr>\n",
       "    <tr>\n",
       "      <th>4</th>\n",
       "      <td>4</td>\n",
       "      <td>0</td>\n",
       "      <td>55bK</td>\n",
       "      <td>18448597</td>\n",
       "      <td>1414529537</td>\n",
       "    </tr>\n",
       "    <tr>\n",
       "      <th>5</th>\n",
       "      <td>5</td>\n",
       "      <td>0</td>\n",
       "      <td>55cZ</td>\n",
       "      <td>18319373</td>\n",
       "      <td>1414530977</td>\n",
       "    </tr>\n",
       "    <tr>\n",
       "      <th>6</th>\n",
       "      <td>6</td>\n",
       "      <td>0</td>\n",
       "      <td>55cZ</td>\n",
       "      <td>18653811</td>\n",
       "      <td>1414530973</td>\n",
       "    </tr>\n",
       "    <tr>\n",
       "      <th>7</th>\n",
       "      <td>7</td>\n",
       "      <td>0</td>\n",
       "      <td>55gr</td>\n",
       "      <td>18481649</td>\n",
       "      <td>1414536158</td>\n",
       "    </tr>\n",
       "    <tr>\n",
       "      <th>8</th>\n",
       "      <td>8</td>\n",
       "      <td>0</td>\n",
       "      <td>55gr</td>\n",
       "      <td>18575263</td>\n",
       "      <td>1414536160</td>\n",
       "    </tr>\n",
       "    <tr>\n",
       "      <th>9</th>\n",
       "      <td>9</td>\n",
       "      <td>0</td>\n",
       "      <td>55ji</td>\n",
       "      <td>18346169</td>\n",
       "      <td>1414617054</td>\n",
       "    </tr>\n",
       "  </tbody>\n",
       "</table>\n",
       "</div>"
      ],
      "text/plain": [
       "   id  tool_id bundle_id  refers_to_object_id     created\n",
       "0   0        0      54Sa             18356743  1414081555\n",
       "1   1        0      54ZB             18316213  1414432504\n",
       "2   2        0      55ap             18637615  1414526581\n",
       "3   3        0      55ap             18643273  1414526584\n",
       "4   4        0      55bK             18448597  1414529537\n",
       "5   5        0      55cZ             18319373  1414530977\n",
       "6   6        0      55cZ             18653811  1414530973\n",
       "7   7        0      55gr             18481649  1414536158\n",
       "8   8        0      55gr             18575263  1414536160\n",
       "9   9        0      55ji             18346169  1414617054"
      ]
     },
     "execution_count": 5,
     "metadata": {},
     "output_type": "execute_result"
    }
   ],
   "source": [
    "## use pandas instead of csvreader\n",
    "## http://pandas.pydata.org/\n",
    "\n",
    "import pandas as pd\n",
    "pen_df = pd.read_csv('../the-pen-data/data/pen-collected-items.csv')\n",
    "\n",
    "## show the first 10 rows\n",
    "pen_df[:10]"
   ]
  },
  {
   "cell_type": "code",
   "execution_count": 6,
   "metadata": {
    "collapsed": false
   },
   "outputs": [
    {
     "data": {
      "text/plain": [
       "<matplotlib.axes._subplots.AxesSubplot at 0x7f633a3b0cc0>"
      ]
     },
     "execution_count": 6,
     "metadata": {},
     "output_type": "execute_result"
    },
    {
     "data": {
      "image/png": "[encoded data removed]",
      "text/plain": [
       "<matplotlib.figure.Figure at 0x7f633a3b0080>"
      ]
     },
     "metadata": {},
     "output_type": "display_data"
    }
   ],
   "source": [
    "## plot something using pandas\n",
    "\n",
    "pen_df['created'].plot()\n"
   ]
  },
  {
   "cell_type": "code",
   "execution_count": null,
   "metadata": {
    "collapsed": true
   },
   "outputs": [],
   "source": []
  }
 ],
 "metadata": {
  "kernelspec": {
   "display_name": "Python 3",
   "language": "python",
   "name": "python3"
  },
  "language_info": {
   "codemirror_mode": {
    "name": "ipython",
    "version": 3
   },
   "file_extension": ".py",
   "mimetype": "text/x-python",
   "name": "python",
   "nbconvert_exporter": "python",
   "pygments_lexer": "ipython3",
   "version": "3.5.1+"
  }
 },
 "nbformat": 4,
 "nbformat_minor": 0
}
