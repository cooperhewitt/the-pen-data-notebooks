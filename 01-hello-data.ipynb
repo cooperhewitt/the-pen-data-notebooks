{
 "cells": [
  {
   "cell_type": "code",
   "execution_count": 1,
   "metadata": {
    "collapsed": false
   },
   "outputs": [
    {
     "name": "stdout",
     "output_type": "stream",
     "text": [
      "Hello data\n"
     ]
    }
   ],
   "source": [
    "print(\"Hello data\")"
   ]
  },
  {
   "cell_type": "markdown",
   "metadata": {},
   "source": [
    "Lets just load some data.\n",
    "This assumes you have [the-pen-data](http://github.com/cooperhewitt/the-pen-data) cloned as a sibling to this repo."
   ]
  },
  {
   "cell_type": "code",
   "execution_count": 1,
   "metadata": {
    "collapsed": true
   },
   "outputs": [],
   "source": [
    "import csv\n",
    "\n",
    "f = csv.reader(open(\"../the-pen-data/data/pen-collected-items.csv\"))\n"
   ]
  },
  {
   "cell_type": "code",
   "execution_count": 2,
   "metadata": {
    "collapsed": false
   },
   "outputs": [
    {
     "name": "stdout",
     "output_type": "stream",
     "text": [
      "['id', 'tool_id', 'bundle_id', 'refers_to_object_id', 'created']\n",
      "['0', '0', '54Sa', '18356743', '1414081555']\n",
      "['1', '0', '54ZB', '18316213', '1414432504']\n",
      "['2', '0', '55ap', '18637615', '1414526581']\n",
      "['3', '0', '55ap', '18643273', '1414526584']\n",
      "['4', '0', '55bK', '18448597', '1414529537']\n",
      "['5', '0', '55cZ', '18319373', '1414530977']\n",
      "['6', '0', '55cZ', '18653811', '1414530973']\n",
      "['7', '0', '55gr', '18481649', '1414536158']\n",
      "['8', '0', '55gr', '18575263', '1414536160']\n"
     ]
    }
   ],
   "source": [
    "for row in range(10):\n",
    "    print(f.__next__())"
   ]
  },
  {
   "cell_type": "code",
   "execution_count": null,
   "metadata": {
    "collapsed": true
   },
   "outputs": [],
   "source": []
  },
  {
   "cell_type": "code",
   "execution_count": null,
   "metadata": {
    "collapsed": true
   },
   "outputs": [],
   "source": []
  }
 ],
 "metadata": {
  "kernelspec": {
   "display_name": "Python 3",
   "language": "python",
   "name": "python3"
  },
  "language_info": {
   "codemirror_mode": {
    "name": "ipython",
    "version": 3
   },
   "file_extension": ".py",
   "mimetype": "text/x-python",
   "name": "python",
   "nbconvert_exporter": "python",
   "pygments_lexer": "ipython3",
   "version": "3.4.3+"
  }
 },
 "nbformat": 4,
 "nbformat_minor": 0
}
